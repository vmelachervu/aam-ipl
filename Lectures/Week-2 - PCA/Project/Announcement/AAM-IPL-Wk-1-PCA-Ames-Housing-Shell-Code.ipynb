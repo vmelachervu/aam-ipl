{
 "cells": [
  {
   "cell_type": "markdown",
   "metadata": {},
   "source": [
    "# AAM-IPL Week-1 Project - PCA - Ames Housing Project\n",
    "**Name of The Student**: <Student_Name> </br>\n",
    "**Roll No.**: <Student-Roll_Number>> </br>\n",
    "**Branch of Study**: <Student_Name> </br>\n",
    "**Department**: <Student_department> </br>\n",
    "**Semester**: <Student_Name> </br>\n",
    "**Email**: <GPREC_Email_Address> </br>\n",
    "**Guest Faculty and Instructor**: Venkateswar Reddy Melachervu, CTO, Brillium Technologies </br>\n",
    "**Program Coordinator**: Prof. V.Suresh, CSM, GPREC </br>\n",
    "\n",
    "**Project Implementation Details**: </br>\n",
    "<Project_Implementation_Details>\n",
    "\n",
    "\n",
    "**AAM-IPL of GPREC is brought to you by Brillium Technologies.**"
   ]
  },
  {
   "cell_type": "code",
   "execution_count": 1,
   "metadata": {},
   "outputs": [],
   "source": [
    "# Import necessary libraries\n",
    "import pandas as pd\n",
    "import numpy as np\n",
    "import matplotlib.pyplot as plt\n",
    "import seaborn as sns\n",
    "from sklearn.preprocessing import StandardScaler, OneHotEncoder\n",
    "from sklearn.decomposition import PCA\n",
    "from sklearn.compose import ColumnTransformer\n",
    "from sklearn.pipeline import Pipeline"
   ]
  },
  {
   "cell_type": "code",
   "execution_count": 2,
   "metadata": {},
   "outputs": [
    {
     "name": "stderr",
     "output_type": "stream",
     "text": [
      "[NbConvertApp] Converting notebook AAM-IPL-Wk-1-PCA-Ames-Housing-Shell-Code.ipynb to pdf\n",
      "[NbConvertApp] Writing 24568 bytes to notebook.tex\n",
      "[NbConvertApp] Building PDF\n",
      "[NbConvertApp] Running xelatex 3 times: ['xelatex', 'notebook.tex', '-quiet']\n",
      "[NbConvertApp] Running bibtex 1 time: ['bibtex', 'notebook']\n",
      "[NbConvertApp] WARNING | b had problems, most likely because there were no citations\n",
      "[NbConvertApp] PDF successfully created\n",
      "[NbConvertApp] Writing 40148 bytes to AAM-IPL-Wk-1-PCA-Ames-Housing-Shell-Code.pdf\n"
     ]
    }
   ],
   "source": [
    "# Load the dataset\n",
    "data_path = 'ames.csv'\n",
    "df = pd.read_csv(data_path)\n",
    "\n",
    "# Identify numerical and categorical columns\n",
    "numerical_cols = df.select_dtypes(include=['int64', 'float64']).columns\n",
    "categorical_cols = df.select_dtypes(include=['object']).columns\n",
    "\n",
    "# Handle missing values\n",
    "df[numerical_cols] = df[numerical_cols].fillna(df[numerical_cols].mean())\n",
    "df[categorical_cols] = df[categorical_cols].fillna('Missing')\n",
    "\n",
    "# Encode categorical features and scale numerical features\n",
    "preprocessor = ColumnTransformer(\n",
    "    transformers=[\n",
    "        ('num', StandardScaler(), numerical_cols),\n",
    "        ('cat', OneHotEncoder(drop='first'), categorical_cols)\n",
    "    ])\n",
    "\n",
    "# Apply the transformations\n",
    "X = preprocessor.fit_transform(df)\n",
    "\n",
    "# Apply PCA without specifying the number of components to get all eigenvalues\n",
    "\n",
    "\n",
    "# Calculate explained variance ratio\n",
    "\n",
    "\n",
    "# Plot the explained variance ratio (Scree Plot)\n",
    "\n",
    "\n",
    "# Calculate cumulative explained variance\n",
    "\n",
    "\n",
    "# Plot cumulative explained variance to find the optimal number of components\n",
    "\n",
    "# Set the threshold for cumulative explained variance (e.g., 90%) and print optimal principal component count\n",
    "threshold = 0.90\n",
    "\n",
    "# Plot the heatmap of principal components correlation\n",
    "\n",
    "\n",
    "# Pair plot for the first few principal components\n",
    "\n",
    "\n",
    "# Generate the PDF of code and output of project jupyter file\n",
    "!jupyter nbconvert --to pdf AAM-IPL-Wk-1-PCA-Ames-Housing-Shell-Code.ipynb\n",
    "\n"
   ]
  }
 ],
 "metadata": {
  "kernelspec": {
   "display_name": "Python 3",
   "language": "python",
   "name": "python3"
  },
  "language_info": {
   "codemirror_mode": {
    "name": "ipython",
    "version": 3
   },
   "file_extension": ".py",
   "mimetype": "text/x-python",
   "name": "python",
   "nbconvert_exporter": "python",
   "pygments_lexer": "ipython3",
   "version": "3.12.4"
  }
 },
 "nbformat": 4,
 "nbformat_minor": 2
}
