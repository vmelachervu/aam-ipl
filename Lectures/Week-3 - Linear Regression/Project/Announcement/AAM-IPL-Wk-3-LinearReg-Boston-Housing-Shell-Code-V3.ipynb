{
 "cells": [
  {
   "cell_type": "markdown",
   "metadata": {},
   "source": [
    "# AAM-IPL Week-<No> Project - <Topic Name> - <Project Name>\n",
    "**Name of The Student**: <Student_Name> </br>\n",
    "**Roll No.**: <Student-Roll_Number>> </br>\n",
    "**Branch of Study**: <Student_Name> </br>\n",
    "**Department**: <Student_department> </br>\n",
    "**Semester**: <Student_Name> </br>\n",
    "**Email**: <GPREC_Email_Address> </br>\n",
    "**Guest Faculty and Instructor**: Venkateswar Reddy Melachervu, CTO, Brillium Technologies </br>\n",
    "**Program Coordinator**: Prof. V.Suresh, CSM, GPREC </br>\n",
    "\n",
    "**Project Implementation Details**: </br>\n",
    "<Project_Implementation_Details>\n",
    "\n",
    "\n",
    "**AAM-IPL of GPREC is brought to you by Brillium Technologies.**"
   ]
  },
  {
   "cell_type": "code",
   "execution_count": 1,
   "metadata": {},
   "outputs": [
    {
     "name": "stdout",
     "output_type": "stream",
     "text": [
      "Boston Housing Prices Prediction Model\n",
      "Loading the data and displaying the first five rows...\n"
     ]
    }
   ],
   "source": [
    "# Importing necessary libraries\n",
    "import numpy as np\n",
    "from sklearn.linear_model import LinearRegression\n",
    "from sklearn.model_selection import train_test_split\n",
    "from sklearn.metrics import mean_squared_error, r2_score\n",
    "import pandas as pd\n",
    "import matplotlib.pyplot as plt\n",
    "from matplotlib.offsetbox import OffsetImage, AnnotationBbox\n",
    "import matplotlib.image as mpimg\n",
    "from sklearn.preprocessing import StandardScaler\n",
    "from sklearn.metrics import mean_squared_error, r2_score, mean_absolute_error\n",
    "# Set display options to show all columns\n",
    "pd.set_option('display.max_columns', None)\n",
    "pd.set_option('display.width', 1000)\n",
    "\n",
    "# Create GPREC AAM-IPL logo watermark function\n",
    "gprec_aam_ipl_logo = 'AAM-IPL-Header-6.png'\n",
    "logo_img = mpimg.imread(gprec_aam_ipl_logo)\n",
    "\n",
    "def add_watermark_AAM_IPL_logo(ax, logo_img):\n",
    "    \"\"\"Function to add a single, centered diagonal logo on the plot.\"\"\"\n",
    "    zoom = 0.6\n",
    "    imagebox = OffsetImage(logo_img, zoom=zoom, alpha=0.25)\n",
    "    ab = AnnotationBbox(imagebox, (0.5, 0.5), frameon=False, xycoords='axes fraction', box_alignment=(0.5, 0.5))\n",
    "    ax.add_artist(ab)\n",
    "\n",
    "# Load Boston Housing dataset\n",
    "print('Boston Housing Prices Prediction Model')\n",
    "print('Loading the data and displaying the first five rows...')\n",
    "boston_housing_data = 'BostonHousing.csv'\n",
    "df_boston_housing = pd.read_csv(boston_housing_data)\n",
    "\n",
    "# Print the total number of rows in the dataset\n",
    "\n",
    "# Print the names of the columns in the data set\n",
    "\n",
    "# Print first few rows\n",
    "\n",
    "\n",
    "# 1. Data Preprocessing\n",
    "# Checking for missing values and displaying only columns with missing values (without the dtype)\n",
    "\n",
    "# Drop rows with missing data (if necessary)\n"
   ]
  },
  {
   "cell_type": "code",
   "execution_count": 2,
   "metadata": {},
   "outputs": [
    {
     "name": "stdout",
     "output_type": "stream",
     "text": [
      "Plotting histograms of all independent columns/features...\n"
     ]
    }
   ],
   "source": [
    "# Exploratory data analysis\n",
    "\n",
    "# Set figure size for all plots\n",
    "figsize = (12, 6)\n",
    "print('Plotting histograms of all independent columns/features...')\n",
    "\n",
    "# Function to plot histograms of all independent columns\n",
    "def plot_histograms_with_watermark(df, independent_columns):\n",
    "    for col in independent_columns:\n",
    "        fig, ax = plt.subplots(figsize=figsize)\n",
    "        ax.hist(df[col].dropna(), bins=30, color='skyblue', edgecolor='black')\n",
    "        ax.set_title(f'Histogram of {col}', fontsize=14)\n",
    "        ax.set_xlabel(col)\n",
    "        ax.set_ylabel('Frequency')\n",
    "\n",
    "        # Add watermark\n",
    "        add_watermark_AAM_IPL_logo(ax, logo_img)\n",
    "\n",
    "        # Show the plot\n",
    "        plt.show()\n",
    "\n",
    "# Get the list of independent columns (excluding the target 'MEDV')\n",
    "\n",
    "\n",
    "# Plot the histograms with the watermark for all independent columns\n"
   ]
  },
  {
   "cell_type": "code",
   "execution_count": 11,
   "metadata": {},
   "outputs": [],
   "source": [
    "# Plot correlation heatmap of features\n",
    "\n",
    "import seaborn as sns\n",
    "import matplotlib.pyplot as plt\n",
    "import numpy as np\n",
    "from matplotlib.offsetbox import OffsetImage, AnnotationBbox\n",
    "\n",
    "# Assuming df_boston_housing contains your dataset\n",
    "\n",
    "# Compute the correlation matrix\n",
    "\n",
    "\n",
    "# Create a figure\n",
    "\n",
    "\n",
    "# Plot the heatmap\n",
    "\n",
    "\n",
    "# Set the title\n",
    "\n",
    "\n",
    "# Add watermark\n",
    "\n",
    "# Position the watermark diagonally\n",
    "\n",
    "# Show the plot\n"
   ]
  },
  {
   "cell_type": "code",
   "execution_count": 6,
   "metadata": {},
   "outputs": [
    {
     "name": "stdout",
     "output_type": "stream",
     "text": [
      "Standardising the data...\n",
      "Splitting the data and training the model...\n",
      "Predicting the test set...\n",
      "Predicted the test set\n"
     ]
    }
   ],
   "source": [
    "# Train and build the linear regression model\n",
    "\n",
    "# Select features (all columns except the last one, assuming it's the target)\n",
    "\n",
    "# Select target (MEDV: Median value of owner-occupied homes in $1000s)\n",
    "\n",
    "# Standardize the features\n",
    "print('Standardising the data...')\n",
    "\n",
    "# Split the data into training and testing sets\n",
    "print('Splitting the data and training the model...')\n",
    "\n",
    "\n",
    "# Build and train the Linear Regression model\n",
    "\n",
    "# Make predictions on the test set\n",
    "print('Predicting the test set...')\n",
    "\n",
    "print('Predicted the test set')"
   ]
  },
  {
   "cell_type": "code",
   "execution_count": 7,
   "metadata": {},
   "outputs": [],
   "source": [
    "# Plot Actual Vs Predicted Home Prices\n",
    "\n",
    "\n",
    "# Add watermark (assuming the watermark function and logo image are available)\n",
    "gprec_aam_ipl_logo = 'AAM-IPL-Header-6.png'\n",
    "logo_img = mpimg.imread(gprec_aam_ipl_logo)\n",
    "def add_watermark_AAM_IPL_logo(ax, logo_img):\n",
    "    zoom = 0.6\n",
    "    imagebox = OffsetImage(logo_img, zoom=zoom, alpha=0.25)\n",
    "    ab = AnnotationBbox(imagebox, (0.5, 0.5), frameon=False, xycoords='axes fraction', box_alignment=(0.5, 0.5))\n",
    "    ax.add_artist(ab)\n",
    "\n",
    "# Get the current axis and add watermark\n",
    "\n",
    "add_watermark_AAM_IPL_logo(ax, logo_img)\n",
    "\n",
    "# Show the plot\n",
    "plt.show()"
   ]
  },
  {
   "cell_type": "code",
   "execution_count": 9,
   "metadata": {},
   "outputs": [],
   "source": [
    "# Evaluate Model Performance\n",
    "\n",
    "# Calculate R² Score\n",
    "\n",
    "# Calculate Mean Squared Error (MSE)\n",
    "\n",
    "# Calculate Root Mean Squared Error (RMSE)\n",
    "\n",
    "# Calculate Mean Absolute Error (MAE)\n",
    "\n",
    "# Calculate Mean Absolute Percentage Error (MAPE)\n",
    "\n",
    "# Print the results\n"
   ]
  },
  {
   "cell_type": "code",
   "execution_count": 10,
   "metadata": {},
   "outputs": [
    {
     "name": "stdout",
     "output_type": "stream",
     "text": [
      "Regression Coefficients of the Model\n"
     ]
    }
   ],
   "source": [
    "# Print coefficients of the linear model\n",
    "\n",
    "print('Regression Coefficients of the Model')\n"
   ]
  },
  {
   "cell_type": "code",
   "execution_count": null,
   "metadata": {},
   "outputs": [],
   "source": [
    "# Generate the PDF of code and output of project jupyter file\n",
    "!jupyter nbconvert --to pdf AAM-IPL-Wk-3-LinearReg-Boston-Housing-Shell-Code-V2.ipynb"
   ]
  }
 ],
 "metadata": {
  "kernelspec": {
   "display_name": "Python 3",
   "language": "python",
   "name": "python3"
  },
  "language_info": {
   "codemirror_mode": {
    "name": "ipython",
    "version": 3
   },
   "file_extension": ".py",
   "mimetype": "text/x-python",
   "name": "python",
   "nbconvert_exporter": "python",
   "pygments_lexer": "ipython3",
   "version": "3.11.9"
  }
 },
 "nbformat": 4,
 "nbformat_minor": 2
}
